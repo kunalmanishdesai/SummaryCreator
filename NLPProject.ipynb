{
 "cells": [
  {
   "cell_type": "code",
   "execution_count": 3,
   "metadata": {},
   "outputs": [
    {
     "name": "stdout",
     "output_type": "stream",
     "text": [
      "Collecting beautifulsoup4\n",
      "  Downloading beautifulsoup4-4.8.2-py3-none-any.whl (106 kB)\n",
      "\u001b[K     |████████████████████████████████| 106 kB 6.0 MB/s eta 0:00:01\n",
      "\u001b[?25hCollecting soupsieve>=1.2\n",
      "  Downloading soupsieve-2.0-py2.py3-none-any.whl (32 kB)\n",
      "Installing collected packages: soupsieve, beautifulsoup4\n",
      "Successfully installed beautifulsoup4-4.8.2 soupsieve-2.0\n",
      "Collecting lxml\n",
      "  Downloading lxml-4.5.0-cp37-cp37m-manylinux1_x86_64.whl (5.7 MB)\n",
      "\u001b[K     |████████████████████████████████| 5.7 MB 3.5 MB/s eta 0:00:01\n",
      "\u001b[?25hInstalling collected packages: lxml\n",
      "Successfully installed lxml-4.5.0\n"
     ]
    }
   ],
   "source": [
    "! pip install beautifulsoup4\n",
    "\n",
    "! pip install lxml"
   ]
  },
  {
   "cell_type": "code",
   "execution_count": 5,
   "metadata": {
    "collapsed": true
   },
   "outputs": [
    {
     "name": "stdout",
     "output_type": "stream",
     "text": [
      "\n",
      "The Citizenship (Amendment) Act, 2019 was passed by the Parliament of India on 11 December 2019. It amended the Citizenship Act of 1955 by providing a path to Indian citizenship for illegal migrants of Hindu, Sikh, Buddhist, Jain, Parsi, and Christian religious minorities, who had fled persecution from Pakistan, Bangladesh and Afghanistan before December 2014.[3][4] Muslims from those countries were not given such eligibility.[5][6][7] The act was the first time religion had been overtly used as a criterion for citizenship under Indian law.[7][a][b][c]\n",
      "The Hindu nationalist Bharatiya Janata Party (BJP), which leads the Indian government,[8][9] had promised in previous election manifestos to offer Indian citizenship to members of persecuted religious minorities who had migrated from neighbouring countries.[10][11] Under the 2019 amendment, migrants who had entered India by 31 December 2014, and had suffered \"religious persecution or fear of religious persecution\" in their country of origin were made eligible for citizenship.[4] The amendment also relaxed the residence requirement for naturalisation of these migrants from twelve years to six.[12]  According to Intelligence Bureau records, there will be just over 30,000 immediate beneficiaries of the bill.[13][d]\n",
      "The amendment has been widely criticised as discriminating on the basis of religion, particularly for excluding Muslims.[5][6] The Office of the United Nations High Commissioner for Human Rights (OHCHR) called it \"fundamentally discriminatory\", adding that while India's \"goal of protecting persecuted groups is welcome\", this should be accomplished through a non-discriminatory \"robust national asylum system\".[17] Critics express concerns that the bill would be used, along with the National Register of Citizens (NRC), to render many Muslim citizens stateless, as they may be unable to meet stringent birth or identity proof requirements.[18][19] Commentators also question the exclusion of persecuted religious minorities from other regions such as Tibet, Sri Lanka and Myanmar.[18][20] The Indian government says that Pakistan, Afghanistan and Bangladesh have Islam as their state religion and therefore Muslims are \"unlikely to face religious persecution\" there.[11][21] However, certain Muslim groups, such as Hazaras and Ahmadis, have historically faced persecution in these countries.[22][23][24]\n",
      "The passage of the legislation caused large-scale protests in India.[25] Assam and other northeastern states have seen violent demonstrations against the bill over fears that granting Indian citizenship to refugees and immigrants will cause a loss of their \"political rights, culture and land rights\" and motivate further migration from Bangladesh.[26][27][28] In other parts of India, protesters said the bill discriminated against Muslims and demanded that Indian citizenship to be granted to Muslim refugees and immigrants.[29] Major protests against the Act were held at universities in India. Students at Aligarh Muslim University and Jamia Millia Islamia alleged brutal suppression by the police.[30] The protests have led to the deaths of several protesters, injuries to protesters and police personnel, damage to public and private property, the detention of hundreds of people, and suspensions of local internet mobile phone connectivity in certain areas.[31][32] Some states have announced they will not implement the Act. The Union Home Ministry has said that states lack the legal power to stop the implementation of the CAA.[33]\n",
      "The Indian Constitution that was implemented in 1950 guaranteed citizenship to all of the country's residents at the commencement of the constitution, and made no distinction on the basis of religion.[34][35][36] The Indian government passed the Citizenship Act in 1955. The Act provided two means for foreigners to acquire Indian citizenship. People from \"undivided India\"[e] were given a means of registration after seven years of residency in India. Those from other countries were given a means of naturalisation after twelve years of residency in India.[38][39] Political developments in the 1980s, particularly those related to the violent Assam movement against all migrants from Bangladesh, triggered revisions to the Citizenship Act of 1955.[40][41][42] The Citizenship Act was first amended in 1985 after the Assam Accord was signed, wherein the Indian government of Prime Minister Rajiv Gandhi agreed to identify foreign citizens, remove them from the electoral roles, and expel them from the country.[43][44][42][45]\n",
      "The Citizenship Act was further amended in 1992, 2003, 2005 and 2015. In December 2003, the National Democratic Alliance government, led by the Hindu nationalist Bharatiya Janata Party (BJP), passed the Citizenship (Amendment) Act, 2003 with far-reaching revisions of the Citizenship Act. It added the notion of \"illegal immigrants\" to the Act, making them ineligible to apply for citizenship (by registration or naturalisation), and declaring their children also as illegal immigrants.[46][47] Illegal immigrants were defined as citizens of other countries who entered India without valid travel documents, or who remained in the country beyond the period permitted by their travel documents. They can be deported or jailed.[48]\n",
      "The 2003 amendment also mandated the Government of India to create and maintain a National Register of Citizens. The bill was supported by the Indian National Congress, as well as the Left parties, such as the Communist Party of India (Marxist) (CPI (M)).[49][50][f] During the parliamentary debate on the amendment, the leader of opposition, Manmohan Singh, stated that refugees belonging to minority communities in Bangladesh and other countries had faced persecution, and requested that the governments approach to granting them citizenship be made more liberal.[52][53][54] According to M.K. Venu, the formulation of the 2003 amendment discussed by Advani and Singh was based on the idea that Muslim groups in Pakistan and Afghanistan that had experienced persecution also needed to be treated with compassion.[54]\n",
      "A very large number of illegal immigrants, the largest numbers of whom are from Bangladesh, live in India. The Task Force on Border Management quoted the figure of 15 million illegal migrants in 2001. In 2004, the United Progressive Alliance (UPA) government stated in Parliament that there were 12 million illegal Bangladeshi migrants in India.[55] The reasons for the scale of migration include a porous border, historical migration patterns, economic reasons, and cultural and linguistic ties.[56] Many illegal migrants from Bangladesh had eventually received the right to vote. According to Niraja Jayal, this enfranchisement was widely described as an attempt to win elections using the votes of the illegal migrants from Bangladesh.[43][57] An unknown number of Pakistani Hindu refugees live in India. An estimated 5,000 refugees  arrive per year, citing religious persecution and forced conversion.[58][59][60]\n",
      "A much larger number of refugees, estimated at 5–13 million, have arrived from Bangladesh over the decades due to a variety of complex factors.[61][62]\n",
      "India is not a signatory to either the 1951 UN Refugee Convention or the 1967 Protocol.[63][64] It does not have a national policy on refugees. All refugees are classed as \"illegal migrants\". While India has been willing to host refugees, its traditional position formulated by Jawaharlal Nehru is that such refugees must return to their home countries after the situation returns to normal.[65][66] According to the US Committee for Refugees and Immigrants, India hosts refugees in excess of 456,000,[67] with about 200,000 from \"non-neighbouring\" countries hosted via the UNHCR.[65][68][g]  According to Shuvro Sarker, since the 1950s and particularly since the 1990s, the Indian governments under various political parties have studied and drafted laws for the naturalisation of refugees and asylum seekers. These drafts have struggled with issues relating to a mass influx of refugees, urban planning, cost of basic services, the obligations to protected tribes, the impact on pre-existing regional poverty levels within India.[70]\n",
      "The \"detection, deletion and deportation\" of illegal migrants has been on the agenda of the BJP since 1996.[71] In the 2016 assembly elections for the border state of Assam, the BJP leaders campaigned in the state promising voters that they would rid Assam of the Bangladeshis. Simultaneously, they also promised to protect Hindus who had fled religious persecution in Bangladesh.[72] According to commentators, in the context of an effort to identify and deport illegal immigrants, the proposal to grant citizenship took a new meaning. Illegal migrants could be granted citizenship if they were non-Muslim, on the grounds that they were refugees; Muslims alone would be deported.[35]\n",
      "In its manifesto for the 2014 Indian general election, the BJP promised to provide a \"natural home\" for persecuted Hindu refugees.[73] The year before the 2016 elections in Assam, the government legalised refugees belonging to religious minorities from Pakistan and Bangladesh, granting them long-term visas. Bangladeshi and Pakistani nationals belonging to \"minority communities\" were exempted from the requirements of the Passport (Entry into India) Act, 1920 and the Foreigners Act, 1946.[74] Specifically mentioned were \"Hindus, Sikhs, Christians, Jains, Parsis and Buddhists,\" who had been \"compelled to seek shelter in India due to religious persecution or fear of religious persecution\". Eligibility for the exemption was made contingent on a migrant having arrived in India by 31 December 2014.[75]\n",
      "The BJP government introduced a bill to amend the citizenship law in 2016, which would have made non-Muslim migrants from Pakistan, Afghanistan, and Bangladesh eligible for Indian citizenship.[76][77] The bill stalled in parliament following widespread political opposition and protests in northeast India. Opponents of the bill in Assam and the northeastern states of India stated that any migration from Bangladesh \"irrespective of  religion\" would cause \"loss of political rights and culture of the indigenous people\".[77][78] According to Niraja Jayal, while the BJP had promised to grant Indian citizenship to all Hindu migrants from Bangladesh in its election campaigns during the 2010s, the draft Amendment bill angered many in Assam, including its own political allies because they view the amendment as a violation of the Assam Accord.[79] That accord promised to identify and deport all illegal Bangladeshi migrants who entered the state after 1971, \"regardless of their religious identity\".[79] In 2018, as the draft of this Amendment was being discussed, numerous Assamese organisations petitioned and agitated against it. They fear that the Amendment will encourage more migration and diminish employment opportunities to the native residents in the state.[79]\n",
      "In parallel to the drafting of an amendment to the 1955 Citizenship Act, the BJP government completed an effort to update the National Register of Citizens (NRC) in the state of Assam. The process for creating the NRC had been put in place by the Citizenship rules enacted in 2003, and had been implemented in Assam under Supreme Court supervision as a result of a 2014 Supreme Court ruling.[80] This was mandated under prior peace agreements in northeast, and the Assam Accord in particular.[81][82] The updated register was made public in August 2019; approximately 1.9 million residents were not on the list, and were in danger of losing their citizenship.[83] Many of those affected were Bengali Hindus, who constitute a major voter base for the BJP; according to commentators, the BJP withdrew its support for the Assam NRC towards its end for this reason.[84][85][h] On 19 November 2019, Home Minister Amit Shah, declared in the Rajya Sabha (the Upper House of the Indian parliament) that the National Register of Citizens would be implemented throughout the country.[88]\n",
      "The BJP government first introduced a bill to amend the citizenship law in 2016, which would have made non-Muslim migrants from Pakistan, Afghanistan, and Bangladesh eligible for Indian citizenship.[76][77] Although this bill was passed by the Lok Sabha, or lower house of Indian parliament, it stalled in the Rajya Sabha, following widespread political opposition and protests in northeast India.[77][78]\n",
      "The BJP reiterated its commitment to amend the citizenship act in its 2019 election campaign. It stated that religious minorities such as Hindus and Sikhs are persecuted in neighbouring Muslim-majority countries, and promised to fast track a path to citizenship for non-Muslim refugees.[89][90] After the elections, the BJP government drafted a bill that addressed the concerns of its northeastern states. It excluded Arunachal Pradesh, Mizoram, Nagaland, Tripura, Meghalaya and Manipur, except for non-tribal cities exempted under pre-existing regulations. It also excluded tribal areas of Assam.[91] The Indian government, while proposing an Amendment, said, that its bill aims to grant quicker access to citizenship to those who have fled religious persecution in neighbouring countries and have taken refuge in India.[21][92][5]\n",
      "The Bill was introduced in Lok Sabha on 19 July 2016 as the Citizenship (Amendment) Bill, 2016. It was referred to the Joint Parliamentary Committee on 12 August 2016. The Committee submitted its report on 7 January 2019 to Parliament. The Bill was taken into consideration and passed by Lok Sabha on 8 January 2019. It was pending for consideration and passing by the Rajya Sabha. Consequent to dissolution of 16th Lok Sabha, this Bill has lapsed.[93]\n",
      "After the formation of 17th Lok Sabha, the Union Cabinet cleared the Citizenship (Amendment) Bill, 2019, on 4 December 2019 for introduction in the parliament.[77][94] The Bill was introduced in 17th Lok Sabha by the Minister of Home Affairs Amit Shah on 9 December 2019 and was passed on 10 December 2019,[95] with 311 MPs voting in favour and 80 against the Bill.[96][97][98]\n",
      "The bill was passed by the Rajya Sabha on 11 December 2019 with 125 votes in favour and 105 votes against it.[99][100] Those voted in favour included Janata Dal (United), AIADMK, Biju Janata Dal, TDP and YSR Congress Party.[99][100]\n",
      "After receiving assent from the President of India on 12 December 2019, the bill assumed the status of an act.[101] The act came into force on 10 January 2020.[1][102] The implementation of the CAB began on 20 December 2019, when Union Minister Mansukh Mandaviya gave citizenship certificates to seven refugees from Pakistan.[103]\n",
      "The Citizenship (Amendment) Act of 2019 amended the Citizenship Act, 1955, by inserting the following provisos in section 2, sub-section (1), after clause (b):[102]\n",
      "Provided that any person belonging to Hindu, Sikh, Buddhist, Jain, Parsi or Christian community from Afghanistan, Bangladesh or Pakistan, who entered into India on or before the 31st day of December, 2014 and who has been exempted by the Central Government by or under clause (c) of sub-section (2) of section 3 of the Passport (Entry into India) Act, 1920 or from the application of the provisions of the Foreigners Act, 1946 or any rule or order made thereunder, shall not be treated as illegal migrant for the purposes of this Act;[102]A new section 6B was inserted (in the section concerning naturalisation), with four clauses, the first of which stated:\n",
      "(1) The Central Government or an authority specified by it in this behalf may, subject to such conditions, restrictions and manner as may be prescribed, on an application made in this behalf, grant a certificate of registration or certificate of naturalisation to a person referred to in the proviso to clause (b) of sub-section (1) of section 2.[102]The \"exempted\" classes of persons were previously defined in the  Foreigners (Amendment) Order, 2015 (issued under the Foreigners Act, 1946):[75]\n",
      "3A. Exemption of certain class of foreigners. – (1) Persons belonging to minority communities in Bangladesh and Pakistan, namely, Hindus, Sikhs, Buddhists, Jains, Parsis and Christians who were compelled to seek shelter in India due to religious persecution or fear of religious persecution and entered into India on or before the 31st December, 2014\n",
      "are hereby granted exemption from the application of provisions of the Foreigners Act, 1946, and the orders made thereunder in respect of their stay in India without such documents or after the expiry of those documents, as the case may be [...].[75]\n",
      "The Rules had been further amended in 2016 by adding Afghanistan to the list of countries.[104]\n",
      "Exemptions were granted to northeastern regions of India in the clause (4) of section 6B:\n",
      "(4) Nothing in this section shall apply to tribal area of Assam, Meghalaya, Mizoram or Tripura as included in the Sixth Schedule to the Constitution and the area covered under \"The Inner Line\" notified under the Bengal Eastern Frontier Regulation, 1873.'.[102] The Bill amends the Citizenship Act of 1955 to give eligibility for Indian citizenship to illegal migrants who are Hindus, Sikhs, Buddhists, Jains, Parsis and Christians from Afghanistan, Bangladesh and Pakistan, and who entered India on or before 31 December 2014. The bill does not mention Muslims.[105][106] According to Intelligence Bureau records, the immediate beneficiaries of the Amended Act will be 31,313 people: 25,447 Hindus, 5,807 Sikhs, 55 Christians, 2 Buddhists and 2 Parsis.[16][107]\n",
      "Under the act, one of the requirements for citizenship by naturalisation is that the applicant must have lived in India during the last 12 months, and for 11 of the previous 14 years.  The bill relaxes this 11-year requirement to 5 years for persons belonging to the same six religions and three countries. The bill exempts the tribal areas of Assam, Meghalaya, and Tripura from its applicability. It also exempts the areas regulated through the Inner Line Permit, which include Arunachal Pradesh, Mizoram and Nagaland.[108][109][110] The inclusion of Manipur in Inner Line Permit was also announced on 9 December 2019.[91]\n",
      "The bill includes new provisions for cancellation of the registration of Overseas Citizenship of India (OCI) if there are any violations of the provisions of this act or provisions of any other law of India. It also adds the opportunity for the OCI holder to be heard before the cancellation.[102][77]\n",
      "Muslims from Pakistan, Bangladesh and Afghanistan are not offered eligibility for citizenship under the new Act.[5][6][111] Critics have questioned the exclusion. The amendment limits itself to the Muslim-majority neighbours of India and takes no cognisance of the persecuted Muslims of those countries.[69]  According to The Economist, if the Indian government was concerned about religious persecution, it should have included Ahmadiyyas – a Muslim sect who have been \"viciously hounded in Pakistan as heretics\", and the Hazaras – another Muslim sect who have been murdered by the Taliban in Afghanistan.  They should be treated as minorities.[22] India's minister of minority affairs, Mukhtar Abbas Naqvi defended the exclusion of the Ahmadiyyas by saying that India does not consider them as non-Muslims.[112] A landmark 1970 judgement from the Kerala High Court deemed Ahmadiyyas to be Muslims by the Indian law.[113] Naqvi added that India has provided refuge to different persecuted sects at different times, and Ahmaddiyas will not be forgotten.[112]\n",
      "Pakistan, Afghanistan, and Bangladesh are Muslim-majority countries that have modified their constitutions in recent decades to declare Islam their official state religion.  Therefore, according to the Indian government, Muslims in these Islamic countries are \"unlikely to face religious persecution\".  The government says that Muslims cannot be \"treated as persecuted minorities\" in these Muslim-majority countries.[21][11]  The BBC says that while these countries have provisions in their constitution guaranteeing non-Muslims rights, including the freedom to practice their religion, in practice non-Muslim populations have experienced discrimination and persecution.[21]\n",
      "The Act does not include migrants from non-Muslim countries fleeing persecution to India, Rohingya Muslim refugees from Myanmar, Hindu refugees from Sri Lanka, and Buddhist refugees from Tibet, China.\n",
      "The Act does not mention Tamil refugees from Sri Lanka. The Sri Lankan Tamils were allowed to settle as refugees in Tamil Nadu in 1980s and 1990s due to systemic violence from the Sinhalese of Sri Lanka. They include 29,500 \"hill country Tamils\" (Malaiha).[66][114]\n",
      "The Act does not provide relief to Tibetan Buddhist refugees,[18]  who came to India in the 1950s and 1960s. Their status has been of refugees over the decades. According to a 1992 UNHCR report, the then Indian government stated that they remain refugees and do not have the right to acquire Indian nationality.[115]\n",
      "The Act does not address Rohingya Muslim refugees from Myanmar.  The Indian government has been deporting Rohingya refugees to Myanmar.[23][116]\n",
      "The National Register of Citizens is a registry of all legal citizens, whose construction and maintenance was mandated by the 2003 amendment of the Citizenship Act. As of January 2020, it has only been implemented for the state of Assam, but the BJP has promised its implementation for the whole of India in its 2019 election manifesto.[117] The NRC documents all the legal citizens so that the people who are left out can be recognized as illegal immigrants (often called \"foreigners\"). The experience with Assam NRC shows that many people were declared \"foreigners\" because their documents were deemed insufficient.[118]\n",
      "In this context, there are concerns that the present amendment of the Citizenship Act provides a \"shield\" to the non-Muslims, who can claim that they were migrants who fled persecution from Afghanistan, Pakistan or Bangladesh, while the Muslims do not have such a benefit.[119][120][121][122] Such a claim may be possible only for people in the border states who have some ethnic resemblance to the people of Afghanistan, Pakistan or Bangladesh, but not to the people of interior states.[19][123] Muslim leaders have interpreted the CAA–NRC package in precisely these terms, viz., that the Muslims in the country would be targeted (by considering documents as insufficient) as potential foreigners, leaving out all non-Muslims.[19]\n",
      "In an interview to India Today, Home Minister Amit Shah offered reassurance that no Indian citizen needs to worry. \"We will make special provisions to ensure that no Indian citizen from minority communities is victimised in the NRC process.\"  But the Indian Express said that the purpose of the NRC is precisely to identify the Indian citizens.  So these references to \"Indian citizens\" remain unexplained.[19]\n",
      "The passage of the Act triggered different types of protests and criticisms. Violent protests erupted in Assam, where the protesters maintained that the new provisions of this Act are against prior agreements such as the Assam Accord,[26][27] and that they would cause a \"loss of political rights and culture\". The India-Japan summit in Guwahati, which was supposed to be attended by Shinzō Abe was cancelled.[124][125] The UK, USA, France, Israel and Canada issued travel warnings for people visiting India's north-east region, telling their citizens to \"exercise caution\".[126][127][128]\n",
      "In other parts of India, political and student activists protested that the law \"marginalizes Muslims, is prejudicial against Muslims\" and sought that Muslim migrants and refugees should also be granted Indian citizenship per its secular foundations.[28] The protesters demanded that the law should grant Indian citizenship to Muslim immigrants and refugees too.[29]\n",
      "Protests against the bill were held in several metropolitan cities across India, including Kolkata,[126] Delhi,[129][130] Mumbai,[99] Bengaluru,[131] Hyderabad,[132] and Jaipur.[129] Rallies were also held in various Indian states of West Bengal, Punjab, Uttar Pradesh, Karnataka, Tamil Nadu, Gujarat, Telangana, Bihar, Maharastra,  Kerala and Karnataka.[126] 27 people were killed by police firing guns in the whole of India.[133][134]\n",
      "Various cities around the world, including New York, Washington D. C.,[135] Paris, Berlin,[136] Geneva, Barcelona, San Francisco, Tokyo, Helsinki,[137] and Amsterdam, witnessed protests against the Act and the police brutality faced by Indian protesters.[138][139]\n",
      "Students from various universities like Jamia Millia Islamia, Aligarh Muslim University, Nadwa College, Jawaharlal Nehru University, IIT Kanpur,  IIT Madras, Jadavpur University, Tata Institute of Social Sciences, IISc, Pondicherry University, and IIM Ahmedabad also held protest. More than 25 student associations from all over India joined protest. On 15 December, police forcefully entered the campus of Jamia Millia Islamia university, where protests were being held, and detained the students. Police used batons and tear gas on the students. More than a hundred students were injured and an equal number were detained. The police action was widely criticized, and resulted in protests across the country.[140][141][142]\n",
      "Muslims all over India came out to protest the CAA–NRC package with a renewed assertion of their identity as Indians.[143] Muslim women started protest at Shaheen Bagh on 15 Dec 2019 start as an ongoing 24/7 sit-in peaceful protest.[144][145][146] The protesters at Shaheen Bagh have blocked a major highway[i] in New Delhi using non-violent resistance for more than 51 days now as of 5 February 2020.[147] On 24 February, violent clashes occurred during the North East Delhi riots in which seven people where killed and more than a hundred injured.[148] The death toll rose to 42 in 36 hours with 250 people getting injured.[149]\n",
      "On 16 December, after the protests entered the fifth day, Prime Minister Narendra Modi appealed for calm in a series of tweets saying \"No Indian has anything to worry regarding this act. This act is only for those who have faced years of persecution outside and have no other place to go except India\".[150][151] As CAA protests raised concerns on combined effects of CAA with NRC, the government has sought to downplay its narrative on NRC, with both the PM Narendra Modi and Home Minister Amit Shah stating that there has been no talk on pan-Indian NRC in their government for now, and neither the cabinet nor the legal department has discussed it.[152][19]\n",
      "Considering Violence and damage to public properties during demonstration, on 19 December, police banned protests in several parts of India with the imposition of section 144 which prohibits the gathering of more than 4 individuals in a public space as being unlawful, namely, parts of the capital Delhi, Uttar Pradesh, and Karnataka, including Bangalore. Police in Chennai denied permission for marches, rallies or any other demonstration.[153][154] Internet services were shutdown in several parts of Delhi. As a result of defining the ban, thousands of protesters were detained, including several opposition leaders and activists such as Ramachandra Guha, Sitaram Yechury, Yogendra Yadav, Umar Khalid, Sandeep Dikshit, Tehseen Poonawalla and D Raja.[155][156][157]\n",
      "Student groups such as those from the Akhil Bharatiya Vidyarthi Parishad – a student wing of the Hindu nationalist Rashtriya Swayamsevak Sangh, held rallies in support of the amended Citizenship Act.[158][159] Rallies in support of the Amendment Act were led by BJP leaders in West Bengal, who alleged that the state government blocked them. They also accused the Chief Minister Mamata Banerjee's party members of misinforming the state's residents about the new law.[160] Similarly, some 15,000 people joined a BJP-organised rally in support of the Act in Rajasthan.[161] On 20 December 2019, scores of people held demonstrations in Central Park, Connaught Place, New Delhi in support of the Act.[162][163] Hundreds of people gathered in Pune, forming a human chain, in support of CAA, on 22 December.[164][165]  ABVP members held a rally in support of CAA and NRC in Kerala.[166] Hundreds of citizens were out on the streets in support of the citizenship law in Bangalore.[167] Members of the Social Democratic Party of India, linked to the Islamist militant organization Popular Front of India, were paid Rs.10000 to attack leaders supporting CAA in Bengaluru according to the Police[168]\n",
      "Hindu refugee families in Assam, living since the 1960s in a refugee camp and who had been denied Indian citizenship so far, said that the Amendment had \"kindled hope\" at first. They added that the recent protests against the Act and demands for its cancellation have made them fearful of the future.[169] In New Delhi, about 600 refugees from Pakistan living in a camp consisting of tiny shanties celebrated the new law.[170] A delegation of Sikh refugees who had arrived from Afghanistan three decades ago thanked the Indian government for amending the citizenship law. They stated the Amended law would allow them to finally gain Indian citizenship and \"join the mainstream\".[171]\n",
      "Some Rohingya Muslim refugees in India were not optimistic about the Amendment and feared they would be deported.[172][173] Other Rohingya refugees expressed gratitude at having been allowed to stay in India, but did not make any comments specific to the Act lest they provoke a backlash. They said that local police had asked them not to protest against the Act.[174]\n",
      "More than 200 families have arrived in the Indian state of Punjab with all their belongings after the law was enacted.[175]\n",
      "The bill was opposed by the Indian National Congress, who said it would create communal tensions and polarise India.[176] The Chief Ministers of the Indian states of Madhya Pradesh, Chhattisgarh, West Bengal, Punjab, Kerala  and Rajasthan and union territory of Puducherry – all led by non-BJP governments – said they will not implement the law.[177][178][126] According to the Union Home Ministry, states lack the legal power to stop the implementation of CAA. The Ministry stated that \"the new legislation has been enacted under the Union List of the 7th Schedule of the Constitution. The states have no power to reject it\".[33] Modi stated on 21 December that the NRC had only been implemented in Assam to follow a directive from the Supreme Court of India, and that there had been no decision taken to implement it nation-wide.[179]\n",
      "The Indian Union Muslim League petitioned the Supreme Court of India to declare the bill illegal.[180] The royal family of Tripura also filed a petition in the Supreme Court against the bill.[181] The first hearing by the Supreme Court of India on 60 petitions challenging the Act was on 18 December 2019. During the first hearing, the court declined to stay implementation of the Citizenship (Amendment) Act, 2019. The court has set 22 January 2020 as the next date of hearing.[182]\n",
      "The foreign intelligence agency of India, R&AW, had expressed concern while deposing in front of the joint parliamentary committee, and had stated that the bill could be used by agents of the foreign intelligence agencies to infiltrate legally into India.[183] Former National Security Advisor Shiv Shankar Menon called the incident a self inflicted goal that has isolated India from the International community.[184]\n",
      "Harish Salve, former Solicitor General of India, said that the bill does not violate Article 14, Article 25 and Article 21 of the Constitution of India.[185] He points out that Article 15 and Article 21 apply only to the entities which reside in India, not to those which want to enter India. Salve says that the bill doesn't violate secularism and describes it as a 'narrowly-tailored' provision that is designed to address a specific issue.[186]\n",
      "A group of prominent individuals and organisations from around 12 countries representing minorities of Bangladesh released a joint statement in which they described the Act as “humanitarian” provision through which India has “partially fulfilled” it's obligations towards the minorities of Bangladesh, Pakistan and Afghanistan.[187] The National Sikh Front – a group representing the Sikhs in Jammu and Kashmir, stated that it supports the Act because it will help the Sikh refugees in India who left Afghanistan.[188]\n",
      "A petition opposing the bill was signed by more 1,000 Indian scientists and scholars.[189] The petition stated that \"The use of religion as a criterion for citizenship in the proposed bill\" was \"inconsistent with the basic structure of the Constitution\".[189] A similar number of Indian academicians and intellectuals released a statement in support of the legislation.[190] The petition stated that the act \"fulfills the long-standing demand of providing refuge to persecuted religious minorities from Pakistan, Bangladesh and Afghanistan\".[191]\n",
      "\n"
     ]
    }
   ],
   "source": [
    "import bs4 as bs\n",
    "import urllib.request\n",
    "import re\n",
    "\n",
    "scraped_data = urllib.request.urlopen('https://en.wikipedia.org/wiki/Citizenship_(Amendment)_Act,_2019')\n",
    "article = scraped_data.read()\n",
    "\n",
    "parsed_article = bs.BeautifulSoup(article,'lxml')\n",
    "\n",
    "paragraphs = parsed_article.find_all('p')\n",
    "\n",
    "\n",
    "article_text = \"\"\n",
    "\n",
    "for p in paragraphs:\n",
    "    article_text += p.text\n",
    "    \n",
    "print(article_text)"
   ]
  },
  {
   "cell_type": "markdown",
   "metadata": {},
   "source": [
    "# Preprocessing\n",
    "\n",
    "The first preprocessing step is to remove references from the article. Wikipedia, references are enclosed in square brackets. The following script removes the square brackets and replaces the resulting multiple spaces by a single space. Take a look at the script below:"
   ]
  },
  {
   "cell_type": "code",
   "execution_count": 24,
   "metadata": {},
   "outputs": [],
   "source": [
    "article_text = re.sub(r'\\[[0-9]*\\]', ' ', article_text)\n",
    "article_text = re.sub(r'\\s+', ' ', article_text)"
   ]
  },
  {
   "cell_type": "markdown",
   "metadata": {},
   "source": [
    "To clean the text and calculate weighted frequences, we will create another object."
   ]
  },
  {
   "cell_type": "code",
   "execution_count": 25,
   "metadata": {},
   "outputs": [],
   "source": [
    "formatted_article_text = re.sub('[^a-zA-Z]', ' ', article_text )\n",
    "formatted_article_text = re.sub(r'\\s+', ' ', formatted_article_text)"
   ]
  },
  {
   "cell_type": "code",
   "execution_count": 26,
   "metadata": {},
   "outputs": [
    {
     "name": "stderr",
     "output_type": "stream",
     "text": [
      "[nltk_data] Downloading package punkt to\n",
      "[nltk_data]     C:\\Users\\kunal\\AppData\\Roaming\\nltk_data...\n",
      "[nltk_data]   Package punkt is already up-to-date!\n",
      "[nltk_data] Downloading package stopwords to\n",
      "[nltk_data]     C:\\Users\\kunal\\AppData\\Roaming\\nltk_data...\n",
      "[nltk_data]   Package stopwords is already up-to-date!\n"
     ]
    },
    {
     "data": {
      "text/plain": [
       "True"
      ]
     },
     "execution_count": 26,
     "metadata": {},
     "output_type": "execute_result"
    }
   ],
   "source": [
    "import nltk\n",
    "nltk.download('punkt')\n",
    "nltk.download('stopwords')"
   ]
  },
  {
   "cell_type": "markdown",
   "metadata": {},
   "source": [
    "The following script performs sentence tokenization:\n"
   ]
  },
  {
   "cell_type": "code",
   "execution_count": 27,
   "metadata": {},
   "outputs": [],
   "source": [
    "sentence_list = nltk.sent_tokenize(article_text)"
   ]
  },
  {
   "cell_type": "markdown",
   "metadata": {},
   "source": [
    "To find the frequency of occurrence of each word, we use the formatted_article_text variable. We used this variable to find the frequency of occurrence since it doesn't contain punctuation, digits, or other special characters. Take a look at the following script:"
   ]
  },
  {
   "cell_type": "code",
   "execution_count": 28,
   "metadata": {},
   "outputs": [],
   "source": [
    "stopwords = nltk.corpus.stopwords.words('english')\n",
    "\n",
    "word_frequencies = {}\n",
    "for word in nltk.word_tokenize(formatted_article_text):\n",
    "    if word not in stopwords:\n",
    "        if word not in word_frequencies.keys():\n",
    "            word_frequencies[word] = 1\n",
    "        else:\n",
    "            word_frequencies[word] += 1"
   ]
  },
  {
   "cell_type": "markdown",
   "metadata": {},
   "source": [
    "Finally, to find the weighted frequency, we can simply divide the number of occurances of all the words by the frequency of the most occurring word, as shown below:"
   ]
  },
  {
   "cell_type": "code",
   "execution_count": 29,
   "metadata": {},
   "outputs": [],
   "source": [
    "maximum_frequncy = max(word_frequencies.values())\n",
    "\n",
    "for word in word_frequencies.keys():\n",
    "    word_frequencies[word] = (word_frequencies[word]/maximum_frequncy)"
   ]
  },
  {
   "cell_type": "markdown",
   "metadata": {},
   "source": [
    "# Calculating Sentence Scores\n",
    "We have now calculated the weighted frequencies for all the words. Now is the time to calculate the scores for each sentence by adding weighted frequencies of the words that occur in that particular sentence. The following script calculates sentence scores:"
   ]
  },
  {
   "cell_type": "code",
   "execution_count": 30,
   "metadata": {},
   "outputs": [],
   "source": [
    "sentence_scores = {}\n",
    "for sent in sentence_list:\n",
    "    for word in nltk.word_tokenize(sent.lower()):\n",
    "        if word in word_frequencies.keys():\n",
    "            if len(sent.split(' ')) < 30:\n",
    "                if sent not in sentence_scores.keys():\n",
    "                    sentence_scores[sent] = word_frequencies[word]\n",
    "                else:\n",
    "                    sentence_scores[sent] += word_frequencies[word]"
   ]
  },
  {
   "cell_type": "markdown",
   "metadata": {},
   "source": [
    "# Getting the Summary\n",
    "Now we have the sentence_scores dictionary that contains sentences with their corresponding score. To summarize the article, we can take top N sentences with the highest scores. The following script retrieves top 7 sentences and prints them on the screen."
   ]
  },
  {
   "cell_type": "code",
   "execution_count": 31,
   "metadata": {},
   "outputs": [
    {
     "name": "stdout",
     "output_type": "stream",
     "text": [
      "The BJP government first introduced a bill to amend the citizenship law in 2016, which would have made non-Muslim migrants from Pakistan, Afghanistan, and Bangladesh eligible for Indian citizenship. The BJP government introduced a bill to amend the citizenship law in 2016, which would have made non-Muslim migrants from Pakistan, Afghanistan, and Bangladesh eligible for Indian citizenship. The Act does not include migrants from non-Muslim countries fleeing persecution to India, Rohingya Muslim refugees from Myanmar, Hindu refugees from Sri Lanka, and Buddhist refugees from Tibet, China. It stated that religious minorities such as Hindus and Sikhs are persecuted in neighbouring Muslim-majority countries, and promised to fast track a path to citizenship for non-Muslim refugees. In other parts of India, protesters said the bill discriminated against Muslims and demanded that Indian citizenship to be granted to Muslim refugees and immigrants. It added the notion of \"illegal immigrants\" to the Act, making them ineligible to apply for citizenship (by registration or naturalisation), and declaring their children also as illegal immigrants. Illegal migrants could be granted citizenship if they were non-Muslim, on the grounds that they were refugees; Muslims alone would be deported.\n"
     ]
    }
   ],
   "source": [
    "import heapq\n",
    "summary_sentences = heapq.nlargest(7, sentence_scores, key=sentence_scores.get)\n",
    "\n",
    "summary = ' '.join(summary_sentences)\n",
    "print(summary)"
   ]
  }
 ],
 "metadata": {
  "kernelspec": {
   "display_name": "Python 3",
   "language": "python",
   "name": "python3"
  },
  "language_info": {
   "codemirror_mode": {
    "name": "ipython",
    "version": 3
   },
   "file_extension": ".py",
   "mimetype": "text/x-python",
   "name": "python",
   "nbconvert_exporter": "python",
   "pygments_lexer": "ipython3",
   "version": "3.7.6"
  }
 },
 "nbformat": 4,
 "nbformat_minor": 2
}
